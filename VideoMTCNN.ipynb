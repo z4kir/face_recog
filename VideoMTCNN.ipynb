{
 "cells": [
  {
   "cell_type": "code",
   "execution_count": 2,
   "metadata": {},
   "outputs": [],
   "source": [
    "import cv2\n",
    "from facenet_pytorch import MTCNN"
   ]
  },
  {
   "cell_type": "code",
   "execution_count": 3,
   "metadata": {},
   "outputs": [
    {
     "ename": "TypeError",
     "evalue": "'NoneType' object is not iterable",
     "output_type": "error",
     "traceback": [
      "\u001b[1;31m---------------------------------------------------------------------------\u001b[0m",
      "\u001b[1;31mTypeError\u001b[0m                                 Traceback (most recent call last)",
      "Cell \u001b[1;32mIn[3], line 9\u001b[0m\n\u001b[0;32m      7\u001b[0m op \u001b[38;5;241m=\u001b[39m detector\u001b[38;5;241m.\u001b[39mdetect(frame)\n\u001b[0;32m      8\u001b[0m \u001b[38;5;28;01mif\u001b[39;00m op \u001b[38;5;129;01mis\u001b[39;00m \u001b[38;5;129;01mnot\u001b[39;00m \u001b[38;5;28;01mNone\u001b[39;00m \u001b[38;5;129;01mand\u001b[39;00m cv2\u001b[38;5;241m.\u001b[39mwaitKey(\u001b[38;5;241m1\u001b[39m):\n\u001b[1;32m----> 9\u001b[0m     \u001b[38;5;28;01mfor\u001b[39;00m v \u001b[38;5;129;01min\u001b[39;00m op[\u001b[38;5;241m0\u001b[39m]:\n\u001b[0;32m     11\u001b[0m         x1, y1, x2, y2 \u001b[38;5;241m=\u001b[39m [\u001b[38;5;28mint\u001b[39m(i) \u001b[38;5;28;01mfor\u001b[39;00m i \u001b[38;5;129;01min\u001b[39;00m v]\n\u001b[0;32m     12\u001b[0m         \u001b[38;5;66;03m# print(x1,y1,x2,y2)\u001b[39;00m\n\u001b[0;32m     13\u001b[0m         \u001b[38;5;66;03m# roi = frame[int(y1):int(y2), int(x1):xint(x2)]\u001b[39;00m\n\u001b[0;32m     14\u001b[0m         \u001b[38;5;66;03m# # apply gaussian blur to face rectangle\u001b[39;00m\n\u001b[1;32m   (...)\u001b[0m\n\u001b[0;32m     17\u001b[0m         \u001b[38;5;66;03m# # add blurred face on original image to get  final image\u001b[39;00m\n\u001b[0;32m     18\u001b[0m         \u001b[38;5;66;03m# frame[int(y1):int(y1)+roi.shape[0], int(x1):int(x1)+roi.shape[1]] = roi\u001b[39;00m\n",
      "\u001b[1;31mTypeError\u001b[0m: 'NoneType' object is not iterable"
     ]
    }
   ],
   "source": [
    "cap = cv2.VideoCapture(0)  # 0 is primary camera id\n",
    "detector = MTCNN()\n",
    "\n",
    "while True:\n",
    "    ret, frame = cap.read()\n",
    "\n",
    "    op = detector.detect(frame)\n",
    "    if op is not None and cv2.waitKey(1):\n",
    "        for v in op[0]:\n",
    "\n",
    "            x1, y1, x2, y2 = [int(i) for i in v]\n",
    "            # print(x1,y1,x2,y2)\n",
    "            # roi = frame[int(y1):int(y2), int(x1):xint(x2)]\n",
    "            # # apply gaussian blur to face rectangle\n",
    "            # roi = cv2.GaussianBlur(roi, (17, 17), 30)\n",
    "\n",
    "            # # add blurred face on original image to get  final image\n",
    "            # frame[int(y1):int(y1)+roi.shape[0], int(x1):int(x1)+roi.shape[1]] = roi\n",
    "\n",
    "            cv2.rectangle(frame, pt1=(x1, y1), pt2=(x2, y2),\n",
    "                          color=(255, 0, 0), thickness=3)\n",
    "\n",
    "    cv2.imshow('win', frame)\n",
    "    # cv2.waitKey(0)\n",
    "\n",
    "    if cv2.waitKey(5) & 0xFF == ord('x'):\n",
    "        break\n",
    "\n",
    "cv2.destroyAllWindows()"
   ]
  },
  {
   "cell_type": "code",
   "execution_count": null,
   "metadata": {},
   "outputs": [],
   "source": []
  }
 ],
 "metadata": {
  "kernelspec": {
   "display_name": "Python 3",
   "language": "python",
   "name": "python3"
  },
  "language_info": {
   "codemirror_mode": {
    "name": "ipython",
    "version": 3
   },
   "file_extension": ".py",
   "mimetype": "text/x-python",
   "name": "python",
   "nbconvert_exporter": "python",
   "pygments_lexer": "ipython3",
   "version": "3.10.4"
  }
 },
 "nbformat": 4,
 "nbformat_minor": 2
}
